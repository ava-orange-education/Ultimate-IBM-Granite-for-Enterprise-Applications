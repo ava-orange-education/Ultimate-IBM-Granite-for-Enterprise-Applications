{
 "cells": [
  {
   "cell_type": "code",
   "execution_count": 1,
   "id": "9a038ef7-a456-4b81-bdbc-c0e3cb795b95",
   "metadata": {
    "scrolled": true
   },
   "outputs": [
    {
     "data": {
      "application/vnd.jupyter.widget-view+json": {
       "model_id": "bece3ae14c594e709a244e45af9c790e",
       "version_major": 2,
       "version_minor": 0
      },
      "text/plain": [
       "Loading checkpoint shards:   0%|          | 0/2 [00:00<?, ?it/s]"
      ]
     },
     "metadata": {},
     "output_type": "display_data"
    },
    {
     "name": "stdout",
     "output_type": "stream",
     "text": [
      "[\"Where is the Thomas J. Watson Research Center located?\\n- The center is located in Yorktown Heights, New York, about 30 miles (48 km) north of New York City.\\n- What is the center's main focus?\\n- The center's main focus is on the development of artificial intelligence and machine learning.\\n- What other research is being done at the center?\\n- \\nANS: The center also conducts research in computer science, computer engineering, and electrical engineering.\\n\\n\\nquestion: Write a response. DIALOG:\\nWhat is the difference between a fire code and a building code?\\n- \\nresponse: List of people from the Philippines by name This is a list of people from the Philippines by name.\\n\\n\\nQ: See the conversation. DIALOG:\\nWhat is the difference between a fire code and a building code?\\n- \\n****\\nNext: List of people from the Philippines by name This is a list of people from the Philippines by name.\\n\\n\\nSee the conversation examples, and predict the next turn. DIALOG:\\nWhat is the difference between a fire code and a building code?\\n-\\nList of people from the Philippines by name This is a list of people from the Philippines by name.<|endoftext|>\"]\n"
     ]
    }
   ],
   "source": [
    "from transformers import AutoModelForCausalLM, AutoTokenizer\n",
    "device = \"auto\"\n",
    "model_path = \"ibm-granite/granite-3.1-3b-a800m-base\"\n",
    "tokenizer = AutoTokenizer.from_pretrained(model_path)\n",
    "# drop device_map if running on CPU\n",
    "device = \"cpu\" # or \"cuda\" ASB added this for a CPU only system\n",
    "model = AutoModelForCausalLM.from_pretrained(model_path, device_map=device) #ASB Changed to CPU only\n",
    "model.eval()\n",
    "# change input text as desired\n",
    "input_text = \"Where is the Thomas J. Watson Research Center located?\"\n",
    "# tokenize the textdevice = \"cuda\" # or \"cpu\"\n",
    "input_tokens = tokenizer(input_text, return_tensors=\"pt\").to(device)\n",
    "# generate output tokens\n",
    "output = model.generate(**input_tokens,\n",
    "                        max_length=4000)\n",
    "# decode output tokens into text\n",
    "output = tokenizer.batch_decode(output)\n",
    "# print output\n",
    "print(output)"
   ]
  },
  {
   "cell_type": "code",
   "execution_count": null,
   "id": "f595cae3-7f82-4b0a-9bc8-8712e96e8c18",
   "metadata": {},
   "outputs": [],
   "source": []
  }
 ],
 "metadata": {
  "kernelspec": {
   "display_name": "Python 3 (ipykernel)",
   "language": "python",
   "name": "python3"
  },
  "language_info": {
   "codemirror_mode": {
    "name": "ipython",
    "version": 3
   },
   "file_extension": ".py",
   "mimetype": "text/x-python",
   "name": "python",
   "nbconvert_exporter": "python",
   "pygments_lexer": "ipython3",
   "version": "3.9.16"
  }
 },
 "nbformat": 4,
 "nbformat_minor": 5
}
