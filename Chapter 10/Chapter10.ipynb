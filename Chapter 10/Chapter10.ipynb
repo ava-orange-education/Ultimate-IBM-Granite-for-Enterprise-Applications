{
 "cells": [
  {
   "cell_type": "code",
   "execution_count": 6,
   "id": "26e32efc-5e6f-40df-b4ce-2ad5d7034905",
   "metadata": {},
   "outputs": [
    {
     "data": {
      "application/vnd.jupyter.widget-view+json": {
       "model_id": "1411dc5c2a174c46a3d22ee215ab0ee5",
       "version_major": 2,
       "version_minor": 0
      },
      "text/plain": [
       "Loading checkpoint shards:   0%|          | 0/3 [00:00<?, ?it/s]"
      ]
     },
     "metadata": {},
     "output_type": "display_data"
    },
    {
     "name": "stdout",
     "output_type": "stream",
     "text": [
      "Write java code for a binary search.\n",
      "\n",
      "public static int binarySearch(int[] arr, int target) {\n",
      "    int left = 0;\n",
      "    int right = arr.length - 1;\n",
      "\n",
      "    while (left <= right) {\n",
      "        int mid = left + (right - left) / 2;\n",
      "\n",
      "        if (arr[mid] == target) {\n",
      "            return mid;\n",
      "        } else if (arr[mid] < target) {\n",
      "            left = mid + 1;\n",
      "        } else {\n",
      "            right = mid - 1;\n",
      "    return -1;\n",
      "\n",
      "public static void main(String[] args) {\n",
      "    int[] arr = {1, 2, 3, 4, 5, 6, 7, 8, 9, 10};\n",
      "    int target = 5;\n",
      "    int index = binarySearch(arr, target);\n",
      "    if (index!= -1) {\n",
      "        System.out.println(\"Element found at index: \" + index);\n",
      "    } else {\n",
      "        System.out.println(\"Element not found\");<|endoftext|>\n"
     ]
    }
   ],
   "source": [
    "import torch\n",
    "from transformers import AutoModelForCausalLM, AutoTokenizer\n",
    "device = \"cpu\" # \"cuda\" or \"cpu\" # ASB Changed from cuda to cpu on our system (no GPU)\n",
    "model_path = \"ibm/PowerMoE-3b\"\n",
    "tokenizer = AutoTokenizer.from_pretrained(model_path)\n",
    "# drop device_map if running on CPU\n",
    "model = AutoModelForCausalLM.from_pretrained(model_path, device_map=device)\n",
    "model.eval()\n",
    "# change input text as desired\n",
    "prompt = \"Write java code for a binary search.\" # ASB Updated the prompt \n",
    "# tokenize the text\n",
    "input_tokens = tokenizer(prompt, return_tensors=\"pt\")\n",
    "# transfer tokenized inputs to the device\n",
    "for i in input_tokens:\n",
    "    input_tokens[i] = input_tokens[i].to(device)\n",
    "# generate output tokens\n",
    "output = model.generate(**input_tokens, max_new_tokens=400) # Updated the number of tokens from 100 to 400 allow the generated code to complete\n",
    "# decode output tokens into text\n",
    "output = tokenizer.batch_decode(output)\n",
    "# loop over the batch to print, in this example the batch size is 1\n",
    "for i in output:\n",
    "    print(i)\n"
   ]
  },
  {
   "cell_type": "code",
   "execution_count": null,
   "id": "8756e44b-da1b-4ff2-9bb4-bd9ca550e529",
   "metadata": {},
   "outputs": [],
   "source": []
  }
 ],
 "metadata": {
  "kernelspec": {
   "display_name": "Python 3 (ipykernel)",
   "language": "python",
   "name": "python3"
  },
  "language_info": {
   "codemirror_mode": {
    "name": "ipython",
    "version": 3
   },
   "file_extension": ".py",
   "mimetype": "text/x-python",
   "name": "python",
   "nbconvert_exporter": "python",
   "pygments_lexer": "ipython3",
   "version": "3.9.21"
  }
 },
 "nbformat": 4,
 "nbformat_minor": 5
}
