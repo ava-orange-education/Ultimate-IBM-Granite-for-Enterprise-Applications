{
 "cells": [
  {
   "cell_type": "markdown",
   "id": "0",
   "metadata": {
    "collapsed": false,
    "jupyter": {
     "outputs_hidden": false
    }
   },
   "source": [
    "# Using CLDK to explain Java methods\n",
    "\n",
    "In this tutorial, we will use [CLDK](https://github.com/IBM/codellm-devkit/tree/main) to generate a summary explaination for a Java method. You will explore some of the benefits of using CLDK to perform quick and easy program analysis and to build an LLM-based code summarizer. By the end of this tutorial, you will have implemented such a tool and generated a summary for a Java method.\n",
    "\n",
    "Specifically, you will learn how to perform the following tasks on Java code to create LLM prompts for code summarization:\n",
    "\n",
    "1. Create a new instance of the `CLDK` class.\n",
    "2. Create an analysis object for the target Java code.\n",
    "3. Iterate over all files in the code.\n",
    "4. Iterate over all classes in a file.\n",
    "5. Initialize `treesitter` utils for the class content.\n",
    "6. Iterate over all methods in a class.\n",
    "7. Get the code body for a method.\n",
    "8. Sanitize the class for prompting the LLM.\n",
    "\n",
    "We will write several helper methods to 1) format the LLM instruction for summarizing a given target method and 2) prompt the LLM via Ollama. We will then use CLDK to go through an application and generate the summary for the target method."
   ]
  },
  {
   "cell_type": "markdown",
   "id": "1",
   "metadata": {
    "collapsed": false,
    "jupyter": {
     "outputs_hidden": false
    }
   },
   "source": [
    "## Prerequisites\n",
    "\n",
    "Before we get started, let's make sure you have the following installed:\n",
    "\n",
    "1. Python 3.11 or later (you can use [pyenv](https://github.com/pyenv/pyenv) to install Python)\n",
    "2. Java 11 or later (you can use [SDKMAN!](https://sdkman.io) to install Java)\n",
    "3. Maven 3.9 or later (you can use [SDKMAN!](https://sdkman.io) to install maven)\n",
    "4. [Ollama 0.3.4](https://ollama.com/) or later.\n",
    "5. [Granite code models](https://ollama.com/library/granite-code), which will serve as our LLM for this tutorial.\n",
    "\n",
    "See the [Coding_Assistant_in_VSCode](../Coding_Assistant_in_VSCode/Coding_Assistant_in_VSCode.ipynb) recipe for instructions on setting up Ollama and installing the Granite models."
   ]
  },
  {
   "cell_type": "markdown",
   "id": "2",
   "metadata": {
    "collapsed": false,
    "jupyter": {
     "outputs_hidden": false
    }
   },
   "source": [
    "### Install Ollama Python SDK\n",
    "\n",
    "We also need the Python API for Ollama and the CLDK toolkit."
   ]
  },
  {
   "cell_type": "code",
   "execution_count": 6,
   "id": "3",
   "metadata": {
    "scrolled": true
   },
   "outputs": [
    {
     "name": "stdout",
     "output_type": "stream",
     "text": [
      "Defaulting to user installation because normal site-packages is not writeable\n",
      "Collecting ollama\n",
      "  Downloading ollama-0.4.7-py3-none-any.whl (13 kB)\n",
      "Collecting httpx<0.29,>=0.27\n",
      "  Using cached httpx-0.28.1-py3-none-any.whl (73 kB)\n",
      "Requirement already satisfied: pydantic<3.0.0,>=2.9.0 in /home/alan/.local/lib/python3.11/site-packages (from ollama) (2.10.6)\n",
      "Collecting anyio\n",
      "  Downloading anyio-4.8.0-py3-none-any.whl (96 kB)\n",
      "\u001b[2K     \u001b[38;2;114;156;31m━━━━━━━━━━━━━━━━━━━━━━━━━━━━━━━━━━━━━━━━\u001b[0m \u001b[32m96.0/96.0 kB\u001b[0m \u001b[31m3.9 MB/s\u001b[0m eta \u001b[36m0:00:00\u001b[0m\n",
      "\u001b[?25hRequirement already satisfied: certifi in /home/alan/.local/lib/python3.11/site-packages (from httpx<0.29,>=0.27->ollama) (2024.12.14)\n",
      "Collecting httpcore==1.*\n",
      "  Using cached httpcore-1.0.7-py3-none-any.whl (78 kB)\n",
      "Requirement already satisfied: idna in /home/alan/.local/lib/python3.11/site-packages (from httpx<0.29,>=0.27->ollama) (3.10)\n",
      "Collecting h11<0.15,>=0.13\n",
      "  Using cached h11-0.14.0-py3-none-any.whl (58 kB)\n",
      "Requirement already satisfied: annotated-types>=0.6.0 in /home/alan/.local/lib/python3.11/site-packages (from pydantic<3.0.0,>=2.9.0->ollama) (0.7.0)\n",
      "Requirement already satisfied: pydantic-core==2.27.2 in /home/alan/.local/lib/python3.11/site-packages (from pydantic<3.0.0,>=2.9.0->ollama) (2.27.2)\n",
      "Requirement already satisfied: typing-extensions>=4.12.2 in /home/alan/.local/lib/python3.11/site-packages (from pydantic<3.0.0,>=2.9.0->ollama) (4.12.2)\n",
      "Collecting sniffio>=1.1\n",
      "  Using cached sniffio-1.3.1-py3-none-any.whl (10 kB)\n",
      "Installing collected packages: sniffio, h11, httpcore, anyio, httpx, ollama\n",
      "Successfully installed anyio-4.8.0 h11-0.14.0 httpcore-1.0.7 httpx-0.28.1 ollama-0.4.7 sniffio-1.3.1\n"
     ]
    }
   ],
   "source": [
    "!pip3.11 install ollama #ASB Changed from !pip to !pip3.11 "
   ]
  },
  {
   "cell_type": "markdown",
   "id": "4",
   "metadata": {
    "collapsed": false,
    "jupyter": {
     "outputs_hidden": false
    }
   },
   "source": [
    "### Install CLDK\n",
    "CLDK is avaliable at https://github.com/IBM/codellm-devkit. You can install it by running the following command:"
   ]
  },
  {
   "cell_type": "code",
   "execution_count": 7,
   "id": "5",
   "metadata": {
    "scrolled": true
   },
   "outputs": [
    {
     "name": "stdout",
     "output_type": "stream",
     "text": [
      "Defaulting to user installation because normal site-packages is not writeable\n",
      "Requirement already satisfied: cldk==0.1.4 in /home/alan/.local/lib/python3.11/site-packages (0.1.4)\n",
      "Requirement already satisfied: ipdb<0.14.0,>=0.13.13 in /home/alan/.local/lib/python3.11/site-packages (from cldk==0.1.4) (0.13.13)\n",
      "Requirement already satisfied: networkx<4.0.0,>=3.2.1 in /home/alan/.local/lib/python3.11/site-packages (from cldk==0.1.4) (3.4.2)\n",
      "Requirement already satisfied: pandas<3.0.0,>=2.2.0 in /home/alan/.local/lib/python3.11/site-packages (from cldk==0.1.4) (2.2.3)\n",
      "Requirement already satisfied: pyarrow<16.0.0,>=15.0.0 in /home/alan/.local/lib/python3.11/site-packages (from cldk==0.1.4) (15.0.2)\n",
      "Requirement already satisfied: pydantic<3.0.0,>=2.6.1 in /home/alan/.local/lib/python3.11/site-packages (from cldk==0.1.4) (2.10.6)\n",
      "Requirement already satisfied: requests<3.0.0,>=2.31.0 in /home/alan/.local/lib/python3.11/site-packages (from cldk==0.1.4) (2.32.3)\n",
      "Requirement already satisfied: rich<14.0.0,>=13.7.1 in /home/alan/.local/lib/python3.11/site-packages (from cldk==0.1.4) (13.9.4)\n",
      "Requirement already satisfied: tree-sitter==0.23.0 in /home/alan/.local/lib/python3.11/site-packages (from cldk==0.1.4) (0.23.0)\n",
      "Requirement already satisfied: tree-sitter-c<0.22.0,>=0.21.0 in /home/alan/.local/lib/python3.11/site-packages (from cldk==0.1.4) (0.21.4)\n",
      "Requirement already satisfied: tree-sitter-go<0.22.0,>=0.21.0 in /home/alan/.local/lib/python3.11/site-packages (from cldk==0.1.4) (0.21.2)\n",
      "Requirement already satisfied: tree-sitter-java<0.22.0,>=0.21.0 in /home/alan/.local/lib/python3.11/site-packages (from cldk==0.1.4) (0.21.0)\n",
      "Requirement already satisfied: tree-sitter-javascript<0.22.0,>=0.21.0 in /home/alan/.local/lib/python3.11/site-packages (from cldk==0.1.4) (0.21.4)\n",
      "Requirement already satisfied: tree-sitter-languages<2.0.0,>=1.10.2 in /home/alan/.local/lib/python3.11/site-packages (from cldk==0.1.4) (1.10.2)\n",
      "Requirement already satisfied: tree-sitter-python==0.23.2 in /home/alan/.local/lib/python3.11/site-packages (from cldk==0.1.4) (0.23.2)\n",
      "Requirement already satisfied: wget<4.0,>=3.2 in /home/alan/.local/lib/python3.11/site-packages (from cldk==0.1.4) (3.2)\n",
      "Requirement already satisfied: ipython>=7.31.1 in /home/alan/.local/lib/python3.11/site-packages (from ipdb<0.14.0,>=0.13.13->cldk==0.1.4) (8.31.0)\n",
      "Requirement already satisfied: decorator in /home/alan/.local/lib/python3.11/site-packages (from ipdb<0.14.0,>=0.13.13->cldk==0.1.4) (5.1.1)\n",
      "Requirement already satisfied: numpy>=1.23.2 in /home/alan/.local/lib/python3.11/site-packages (from pandas<3.0.0,>=2.2.0->cldk==0.1.4) (1.26.4)\n",
      "Requirement already satisfied: python-dateutil>=2.8.2 in /home/alan/.local/lib/python3.11/site-packages (from pandas<3.0.0,>=2.2.0->cldk==0.1.4) (2.9.0.post0)\n",
      "Requirement already satisfied: pytz>=2020.1 in /home/alan/.local/lib/python3.11/site-packages (from pandas<3.0.0,>=2.2.0->cldk==0.1.4) (2024.2)\n",
      "Requirement already satisfied: tzdata>=2022.7 in /home/alan/.local/lib/python3.11/site-packages (from pandas<3.0.0,>=2.2.0->cldk==0.1.4) (2025.1)\n",
      "Requirement already satisfied: annotated-types>=0.6.0 in /home/alan/.local/lib/python3.11/site-packages (from pydantic<3.0.0,>=2.6.1->cldk==0.1.4) (0.7.0)\n",
      "Requirement already satisfied: pydantic-core==2.27.2 in /home/alan/.local/lib/python3.11/site-packages (from pydantic<3.0.0,>=2.6.1->cldk==0.1.4) (2.27.2)\n",
      "Requirement already satisfied: typing-extensions>=4.12.2 in /home/alan/.local/lib/python3.11/site-packages (from pydantic<3.0.0,>=2.6.1->cldk==0.1.4) (4.12.2)\n",
      "Requirement already satisfied: charset-normalizer<4,>=2 in /home/alan/.local/lib/python3.11/site-packages (from requests<3.0.0,>=2.31.0->cldk==0.1.4) (3.4.1)\n",
      "Requirement already satisfied: idna<4,>=2.5 in /home/alan/.local/lib/python3.11/site-packages (from requests<3.0.0,>=2.31.0->cldk==0.1.4) (3.10)\n",
      "Requirement already satisfied: urllib3<3,>=1.21.1 in /home/alan/.local/lib/python3.11/site-packages (from requests<3.0.0,>=2.31.0->cldk==0.1.4) (2.3.0)\n",
      "Requirement already satisfied: certifi>=2017.4.17 in /home/alan/.local/lib/python3.11/site-packages (from requests<3.0.0,>=2.31.0->cldk==0.1.4) (2024.12.14)\n",
      "Requirement already satisfied: markdown-it-py>=2.2.0 in /home/alan/.local/lib/python3.11/site-packages (from rich<14.0.0,>=13.7.1->cldk==0.1.4) (3.0.0)\n",
      "Requirement already satisfied: pygments<3.0.0,>=2.13.0 in /home/alan/.local/lib/python3.11/site-packages (from rich<14.0.0,>=13.7.1->cldk==0.1.4) (2.19.1)\n",
      "Requirement already satisfied: jedi>=0.16 in /home/alan/.local/lib/python3.11/site-packages (from ipython>=7.31.1->ipdb<0.14.0,>=0.13.13->cldk==0.1.4) (0.19.2)\n",
      "Requirement already satisfied: matplotlib-inline in /home/alan/.local/lib/python3.11/site-packages (from ipython>=7.31.1->ipdb<0.14.0,>=0.13.13->cldk==0.1.4) (0.1.7)\n",
      "Requirement already satisfied: pexpect>4.3 in /home/alan/.local/lib/python3.11/site-packages (from ipython>=7.31.1->ipdb<0.14.0,>=0.13.13->cldk==0.1.4) (4.9.0)\n",
      "Requirement already satisfied: prompt_toolkit<3.1.0,>=3.0.41 in /home/alan/.local/lib/python3.11/site-packages (from ipython>=7.31.1->ipdb<0.14.0,>=0.13.13->cldk==0.1.4) (3.0.50)\n",
      "Requirement already satisfied: stack_data in /home/alan/.local/lib/python3.11/site-packages (from ipython>=7.31.1->ipdb<0.14.0,>=0.13.13->cldk==0.1.4) (0.6.3)\n",
      "Requirement already satisfied: traitlets>=5.13.0 in /home/alan/.local/lib/python3.11/site-packages (from ipython>=7.31.1->ipdb<0.14.0,>=0.13.13->cldk==0.1.4) (5.14.3)\n",
      "Requirement already satisfied: mdurl~=0.1 in /home/alan/.local/lib/python3.11/site-packages (from markdown-it-py>=2.2.0->rich<14.0.0,>=13.7.1->cldk==0.1.4) (0.1.2)\n",
      "Requirement already satisfied: six>=1.5 in /home/alan/.local/lib/python3.11/site-packages (from python-dateutil>=2.8.2->pandas<3.0.0,>=2.2.0->cldk==0.1.4) (1.17.0)\n",
      "Requirement already satisfied: parso<0.9.0,>=0.8.4 in /home/alan/.local/lib/python3.11/site-packages (from jedi>=0.16->ipython>=7.31.1->ipdb<0.14.0,>=0.13.13->cldk==0.1.4) (0.8.4)\n",
      "Requirement already satisfied: ptyprocess>=0.5 in /home/alan/.local/lib/python3.11/site-packages (from pexpect>4.3->ipython>=7.31.1->ipdb<0.14.0,>=0.13.13->cldk==0.1.4) (0.7.0)\n",
      "Requirement already satisfied: wcwidth in /home/alan/.local/lib/python3.11/site-packages (from prompt_toolkit<3.1.0,>=3.0.41->ipython>=7.31.1->ipdb<0.14.0,>=0.13.13->cldk==0.1.4) (0.2.13)\n",
      "Requirement already satisfied: executing>=1.2.0 in /home/alan/.local/lib/python3.11/site-packages (from stack_data->ipython>=7.31.1->ipdb<0.14.0,>=0.13.13->cldk==0.1.4) (2.2.0)\n",
      "Requirement already satisfied: asttokens>=2.1.0 in /home/alan/.local/lib/python3.11/site-packages (from stack_data->ipython>=7.31.1->ipdb<0.14.0,>=0.13.13->cldk==0.1.4) (3.0.0)\n",
      "Requirement already satisfied: pure-eval in /home/alan/.local/lib/python3.11/site-packages (from stack_data->ipython>=7.31.1->ipdb<0.14.0,>=0.13.13->cldk==0.1.4) (0.2.3)\n"
     ]
    }
   ],
   "source": [
    "!pip3.11 install cldk==0.1.4 #ASB Changed from !pip to !pip3.11 "
   ]
  },
  {
   "cell_type": "markdown",
   "id": "6",
   "metadata": {
    "collapsed": false,
    "jupyter": {
     "outputs_hidden": false
    }
   },
   "source": [
    "## Analyze and Summarize Java Code\n",
    "\n",
    "First we get the sample Java code, then we will use CLDK to analyze and summarize it.\n",
    "\n",
    "### Get the Sample Java Code\n",
    "For this tutorial, we will use [Apache Commons CLI](https://github.com/apache/commons-cli) as the sample Java code. You can download the source code to a temporary directory by running the following commands:"
   ]
  },
  {
   "cell_type": "code",
   "execution_count": 8,
   "id": "7",
   "metadata": {
    "collapsed": false,
    "jupyter": {
     "outputs_hidden": false
    },
    "scrolled": true
   },
   "outputs": [
    {
     "name": "stdout",
     "output_type": "stream",
     "text": [
      "total 4\n",
      "drwxr-xr-x. 4 alan alan 4096 Apr 13  2024 commons-cli-rel-commons-cli-1.7.0\n"
     ]
    }
   ],
   "source": [
    "%%bash\n",
    "COMMONS=commons-cli-1.7.0\n",
    "test -d temp || ( \\\n",
    "  mkdir -p temp && \\\n",
    "  cd temp && \\\n",
    "  wget https://github.com/apache/commons-cli/archive/refs/tags/rel/$COMMONS.zip -O $COMMONS.zip && \\\n",
    "  unzip -o $COMMONS.zip && \\\n",
    "  rm -f $COMMONS.zip && \\\n",
    "  cd - \\\n",
    ") && ls -l temp/"
   ]
  },
  {
   "cell_type": "markdown",
   "id": "8",
   "metadata": {
    "collapsed": false,
    "jupyter": {
     "outputs_hidden": false
    }
   },
   "source": [
    "You should see `commons-cli-rel-commons-cli-1.7.0` in `temp`."
   ]
  },
  {
   "cell_type": "markdown",
   "id": "9",
   "metadata": {
    "collapsed": false,
    "jupyter": {
     "outputs_hidden": false
    }
   },
   "source": [
    "### Generate the Code Summary\n",
    "\n",
    "Code summarization or code explanation is the task of converting code written in a programming language to natural language. It has several benefits, such as understanding code without looking at its details, documenting code for better maintenance, etc. To perform code summarization, one needs to understand the basic details of the code implementation, and use that knowledge to generate the summary using various AI-based approaches. Here, we use LLMs, specifically Granite Code 83 Instruct. We will show how a developer can easily use CLDK to analyze code by calling various APIs without having to implement analyses with lower-level tools."
   ]
  },
  {
   "cell_type": "markdown",
   "id": "10",
   "metadata": {
    "collapsed": false,
    "jupyter": {
     "outputs_hidden": false
    }
   },
   "source": [
    "#### Step 1: Add the neccessary imports"
   ]
  },
  {
   "cell_type": "code",
   "execution_count": 9,
   "id": "11",
   "metadata": {
    "collapsed": false,
    "jupyter": {
     "outputs_hidden": false
    }
   },
   "outputs": [],
   "source": [
    "import ollama\n",
    "from cldk import CLDK\n",
    "from cldk.analysis import AnalysisLevel"
   ]
  },
  {
   "cell_type": "markdown",
   "id": "12",
   "metadata": {
    "collapsed": false,
    "jupyter": {
     "outputs_hidden": false
    }
   },
   "source": [
    "#### Step 2: Define a function for creating the LLM prompt\n",
    "\n",
    "This function instructs the LLM to summarize a Java method and includes relevant code for the task."
   ]
  },
  {
   "cell_type": "code",
   "execution_count": 10,
   "id": "13",
   "metadata": {
    "collapsed": false,
    "jupyter": {
     "outputs_hidden": false
    }
   },
   "outputs": [],
   "source": [
    "def format_inst(code, focal_method, focal_class, language):\n",
    "    \"\"\"\n",
    "    Format the instruction for the given focal method and class.\n",
    "    \"\"\"\n",
    "    inst = f\"Question: Can you write a brief summary for the method `{focal_method}` in the class `{focal_class}` below?\\n\"\n",
    "\n",
    "    inst += \"\\n\"\n",
    "    inst += f\"```{language}\\n\"\n",
    "    inst += code\n",
    "    inst += \"```\" if code.endswith(\"\\n\") else \"\\n```\"\n",
    "    inst += \"\\n\"\n",
    "    return inst"
   ]
  },
  {
   "cell_type": "markdown",
   "id": "14",
   "metadata": {
    "collapsed": false,
    "jupyter": {
     "outputs_hidden": false
    }
   },
   "source": [
    "#### Step 3: Define a function to call the LLM\n",
    "\n",
    "In this case, Granite Code Instruct model, invoked using Ollama."
   ]
  },
  {
   "cell_type": "code",
   "execution_count": 11,
   "id": "15",
   "metadata": {
    "collapsed": false,
    "jupyter": {
     "outputs_hidden": false
    }
   },
   "outputs": [],
   "source": [
    "def prompt_ollama(message: str, model_id: str = \"granite-code:3b\") -> str:\n",
    "    \"\"\"Prompt local model on Ollama\"\"\"\n",
    "    response_object = ollama.generate(model=model_id, prompt=message, options={\"temperature\":0.2})\n",
    "    return response_object[\"response\"]"
   ]
  },
  {
   "cell_type": "markdown",
   "id": "16",
   "metadata": {
    "collapsed": false,
    "jupyter": {
     "outputs_hidden": false
    }
   },
   "source": [
    "#### Step 4: Create an instance of CLDK, specifying the programming language of the source code\n",
    "\n",
    "Java in this case."
   ]
  },
  {
   "cell_type": "code",
   "execution_count": 12,
   "id": "17",
   "metadata": {
    "collapsed": false,
    "jupyter": {
     "outputs_hidden": false
    }
   },
   "outputs": [],
   "source": [
    "cldk = CLDK(language=\"java\")"
   ]
  },
  {
   "cell_type": "markdown",
   "id": "18",
   "metadata": {
    "collapsed": false,
    "jupyter": {
     "outputs_hidden": false
    }
   },
   "source": [
    "#### Step 5: Select the analysis engine and analysis level\n",
    "\n",
    "CLDK uses different analysis engines---[CodeAnalyzer](https://github.com/IBM/codenet-minerva-code-analyzer) (built over [WALA](https://github.com/wala/WALA) and [JavaParser](https://github.com/javaparser/javaparser)), [Treesitter](https://tree-sitter.github.io/tree-sitter/), and [CodeQL](https://codeql.github.com/) (future). CodeAnalyzer is the default analysis engine. CLDK supports different analysis levels: 1) symbol table, 2) call graph, 3) program dependency graph, and 4) system dependency graph. The analysis level can be selected using the `AnalysisLevel` enumerated type. For this example, we select the symbol-table analysis level, with CodeAnalyzer as the default analysis engine.\n",
    "\n",
    "> **NOTE:** If the next cell throws an error `CalledProcessError`, make sure you have a working Java installation! See the **Prerequisites** above."
   ]
  },
  {
   "cell_type": "code",
   "execution_count": 13,
   "id": "19",
   "metadata": {
    "collapsed": false,
    "jupyter": {
     "outputs_hidden": false
    }
   },
   "outputs": [],
   "source": [
    "# Create an analysis object for the Java application\n",
    "analysis = cldk.analysis(project_path=\"temp/commons-cli-rel-commons-cli-1.7.0\", analysis_level=AnalysisLevel.symbol_table, analysis_json_path='analysis')"
   ]
  },
  {
   "cell_type": "markdown",
   "id": "20",
   "metadata": {},
   "source": [
    "Note that a file [./analysis/analysis.json](./analysis/analysis.json) was created. This file will be used in the other notebooks, too!"
   ]
  },
  {
   "cell_type": "markdown",
   "id": "21",
   "metadata": {
    "collapsed": false,
    "jupyter": {
     "outputs_hidden": false
    }
   },
   "source": [
    "#### Step 6: Iterate over all the class files and create the prompt\n",
    "\n",
    "In this case, we want to provide a sanitized Java class in the prompt, containing only the relevant information for summarizing the target method. To illustrate, consider the floowing class:\n",
    "\n",
    "```java\n",
    "package com.ibm.org;\n",
    "import A.B.C.D;\n",
    "...\n",
    "public class Foo {\n",
    " // code comment\n",
    " public void bar(){\n",
    "    int a;\n",
    "    a = baz();\n",
    "    // do something\n",
    "    }\n",
    " private int baz()\n",
    " {\n",
    "    // do something\n",
    " }\n",
    " public String dummy (String a)\n",
    " {\n",
    "    // do somthing\n",
    " }\n",
    "```\n",
    "Let's say we want to generate a summary for method `bar`. To understand what it does, we add the callees of this method in the prompt, which in this case includes `baz`. We remove the other methods, imports, comments, etc. All of this can be achieved with a single call to CLDK's `sanitize_focal_class` API. In this process, we also use Treesitter to analyze the code.  After creating the sanitized code, we call the previously defined `format_inst` method to create the LLM prompt and pass the prompt to `prompt_ollama` to generate the method summary."
   ]
  },
  {
   "cell_type": "code",
   "execution_count": 14,
   "id": "22",
   "metadata": {
    "collapsed": false,
    "jupyter": {
     "outputs_hidden": false
    },
    "pycharm": {
     "is_executing": true
    },
    "scrolled": true
   },
   "outputs": [
    {
     "name": "stdout",
     "output_type": "stream",
     "text": [
      "Class: org.apache.commons.cli.GnuParser\n",
      "Instruction:\n",
      "Question: Can you write a brief summary for the method `protected String[] flatten(final Options options, final String[] arguments, final boolean stopAtNonOption)` in the class `GnuParser` below?\n",
      "\n",
      "```java\n",
      "package org.apache.commons.cli;\n",
      "\n",
      "import java.util.ArrayList;\n",
      "import java.util.List;\n",
      "\n",
      "@Deprecated\n",
      "public class GnuParser extends Parser {\n",
      "\n",
      "    @Override\n",
      "    protected String[] flatten(final Options options, final String[] arguments, final boolean stopAtNonOption) {\n",
      "        final List<String> tokens = new ArrayList<>();\n",
      "        boolean eatTheRest = false;\n",
      "        for (int i = 0; i < arguments.length; i++) {\n",
      "            final String arg = arguments[i];\n",
      "            if (\"--\".equals(arg)) {\n",
      "                eatTheRest = true;\n",
      "                tokens.add(\"--\");\n",
      "            } else if (\"-\".equals(arg)) {\n",
      "                tokens.add(\"-\");\n",
      "            } else if (arg.startsWith(\"-\")) {\n",
      "                final String opt = Util.stripLeadingHyphens(arg);\n",
      "                if (options.hasOption(opt)) {\n",
      "                    tokens.add(arg);\n",
      "                } else {\n",
      "                    final int equalPos = DefaultParser.indexOfEqual(opt);\n",
      "                    if (equalPos != -1 && options.hasOption(opt.substring(0, equalPos))) {\n",
      "                        tokens.add(arg.substring(0, arg.indexOf(Char.EQUAL))); // --foo\n",
      "                        tokens.add(arg.substring(arg.indexOf(Char.EQUAL) + 1)); // value\n",
      "                    } else if (options.hasOption(arg.substring(0, 2))) {\n",
      "                        tokens.add(arg.substring(0, 2)); // -D\n",
      "                        tokens.add(arg.substring(2)); // property=value\n",
      "                    } else {\n",
      "                        eatTheRest = stopAtNonOption;\n",
      "                        tokens.add(arg);\n",
      "                    }\n",
      "                }\n",
      "            } else {\n",
      "                tokens.add(arg);\n",
      "            }\n",
      "\n",
      "            if (eatTheRest) {\n",
      "                for (i++; i < arguments.length; i++) { // NOPMD\n",
      "                    tokens.add(arguments[i]);\n",
      "                }\n",
      "            }\n",
      "        }\n",
      "\n",
      "        return tokens.toArray(Util.EMPTY_STRING_ARRAY);\n",
      "    }\n",
      "}\n",
      "```\n",
      "\n",
      "\n",
      "Generating code summary and it will take few minutes (or even seconds) based on where the model has been hosted...\n",
      "\n",
      "LLM Output:\n",
      "The `flatten` method is responsible for parsing command-line options and arguments in the Apache Commons CLI library. It takes three parameters: `options`, which is an instance of the `Options` class representing the available command-line options; `arguments`, which is an array of strings containing the command-line arguments; and `stopAtNonOption`, a boolean value indicating whether to stop parsing at non-option arguments.\n",
      "\n",
      "The method uses a loop to iterate through each argument in the `arguments` array. If the argument is a double dash (`--`), it sets the `eatTheRest` flag to true, indicating that the rest of the arguments should be added to the result. If the argument is a single dash (`-`), it adds the dash itself to the result.\n",
      "\n",
      "If the argument starts with a dash (`-`), the method checks if the option exists in the `options` instance using the `hasOption` method. If the option exists, the argument is added to the result. Otherwise, the method checks for an equal sign (`=`) in the option and, if found, checks if the option exists with the value specified after the equal sign. If both conditions are met, the option and its value are added to the result.\n",
      "\n",
      "If none of the above conditions are met, the `eatTheRest` flag is set to the value of the `stopAtNonOption` parameter, indicating whether to stop parsing at non-option arguments. The argument is then added to the result.\n",
      "\n",
      "Finally, if the `eatTheRest` flag is true, the method adds any remaining arguments after the current one to the result. The resulting list of tokens is converted to an array and returned.\n",
      "\n"
     ]
    }
   ],
   "source": [
    "# For simplicity, we run the code summarization on a single class and method\n",
    "# (this filter can be removed to run this code over the entire application)\n",
    "target_class = \"org.apache.commons.cli.GnuParser\"\n",
    "target_method = \"flatten(Options, String[], boolean)\"\n",
    "\n",
    "# Iterate over all classes in the application\n",
    "for class_name in analysis.get_classes():\n",
    "    if class_name == target_class:\n",
    "        print(f\"Class: {class_name}\")\n",
    "        class_file_path = analysis.get_java_file(qualified_class_name=class_name)\n",
    "\n",
    "        # Read code for the class\n",
    "        with open(class_file_path, \"r\") as f:\n",
    "            code_body = f.read()\n",
    "\n",
    "        # Initialize treesitter utils for the class file content\n",
    "        tree_sitter_utils = cldk.tree_sitter_utils(source_code=code_body)\n",
    "\n",
    "        # Iterate over all methods in class\n",
    "        for method in analysis.get_methods_in_class(qualified_class_name=class_name):\n",
    "            if method == target_method:\n",
    "\n",
    "                # Get all the method details\n",
    "                method_details = analysis.get_method(qualified_class_name=class_name,\n",
    "                                                     qualified_method_name=method)\n",
    "\n",
    "                # Sanitize the class for analysis with respect to the target method\n",
    "                sanitized_class = tree_sitter_utils.sanitize_focal_class(method_details.declaration)\n",
    "\n",
    "                # Format the instruction for the given target method and class\n",
    "                instruction = format_inst(\n",
    "                    code=sanitized_class,\n",
    "                    focal_method=method_details.declaration,\n",
    "                    focal_class=class_name.split(\".\")[-1],\n",
    "                    language=\"java\"\n",
    "                )\n",
    "\n",
    "                print(f\"Instruction:\\n{instruction}\\n\")\n",
    "                print(f\"Generating code summary and it will take few minutes (or even seconds) based on where the model has been hosted...\\n\")\n",
    "\n",
    "                # Prompt the local model on Ollama\n",
    "                llm_output = prompt_ollama(message=instruction)\n",
    "\n",
    "                # Print the LLM output\n",
    "                print(f\"LLM Output:\\n{llm_output}\")"
   ]
  },
  {
   "cell_type": "markdown",
   "id": "23",
   "metadata": {},
   "source": [
    "After the LLM's response is received, you should see the generated summary of the `flatten` method printed out (similar to the following text).\n",
    "\n",
    "\n",
    "**LLM Output:**\n",
    "Sure! The method `protected String[] flatten(final Options options, final String[] arguments, final boolean stopAtNonOption)` in the class `GnuParser` is responsible for parsing command-line arguments according to the GNU convention. It takes three parameters: `options`, which represents a collection of valid command-line options; `arguments`, which is an array of strings representing the command-line arguments to be parsed; and `stopAtNonOption`, which determines whether to stop processing arguments once a non-option argument is encountered.\n",
    "\n",
    "The method iterates through each argument in the `arguments` array and performs various checks based on the argument's format. If the argument starts with \"--\", it adds the entire argument to the `tokens` list. If the argument is \"-\", it adds \"-\" to the `tokens` list. If the argument starts with a hyphen but does not match any known option, it determines whether to stop processing arguments or add the argument to the `tokens` list based on the value of `stopAtNonOption`.\n",
    "\n",
    "If an argument matches a known option, it is added to the `tokens` list along with its associated value (if applicable). The method also handles cases where the argument appears in a different format, such as \"-Dproperty=value\" or \"--option=value\".\n",
    "\n",
    "Finally, the method returns the `tokens` list as an array of strings.\n"
   ]
  }
 ],
 "metadata": {
  "kernelspec": {
   "display_name": "Python 3 (ipykernel)",
   "language": "python",
   "name": "python3"
  },
  "language_info": {
   "codemirror_mode": {
    "name": "ipython",
    "version": 3
   },
   "file_extension": ".py",
   "mimetype": "text/x-python",
   "name": "python",
   "nbconvert_exporter": "python",
   "pygments_lexer": "ipython3",
   "version": "3.11.9"
  }
 },
 "nbformat": 4,
 "nbformat_minor": 5
}
